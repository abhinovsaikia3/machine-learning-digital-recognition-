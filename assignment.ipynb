{
  "nbformat": 4,
  "nbformat_minor": 0,
  "metadata": {
    "colab": {
      "provenance": []
    },
    "kernelspec": {
      "name": "python3",
      "display_name": "Python 3"
    },
    "language_info": {
      "name": "python"
    }
  },
  "cells": [
    {
      "cell_type": "code",
      "source": [
        "# Importing all necessary PyTorch and helper libraries\n",
        "import torch                               # Main PyTorch library for tensors and models\n",
        "import torch.nn as nn                      # Neural network module for creating layers\n",
        "import torch.optim as optim                # Optimizers like Adam, SGD, etc.\n",
        "from torchvision import datasets, transforms  # For loading MNIST dataset and preprocessing\n",
        "from torch.utils.data import DataLoader    # Helps to batch and shuffle data efficiently\n"
      ],
      "metadata": {
        "id": "IevXuLBMhsPB"
      },
      "execution_count": 3,
      "outputs": []
    },
    {
      "cell_type": "code",
      "source": [
        "# Define the transformation for the MNIST images\n",
        "transform = transforms.Compose([\n",
        "    transforms.ToTensor(),                # Convert PIL image to tensor with values in [0,1]\n",
        "    transforms.Normalize((0.5,), (0.5,))  # Normalize to [-1,1] using mean and std deviation\n",
        "])\n",
        "\n",
        "# Load the training and testing datasets\n",
        "train_dataset = datasets.MNIST(root='./data', train=True, download=True, transform=transform)\n",
        "test_dataset = datasets.MNIST(root='./data', train=False, download=True, transform=transform)\n",
        "\n",
        "# DataLoader allows batch processing and shuffling\n",
        "train_loader = DataLoader(train_dataset, batch_size=64, shuffle=True)\n",
        "test_loader = DataLoader(test_dataset, batch_size=1000, shuffle=False)\n"
      ],
      "metadata": {
        "colab": {
          "base_uri": "https://localhost:8080/"
        },
        "id": "ucbWs_4KiK27",
        "outputId": "fcd83fb6-385e-4956-fb40-62fc8c7eb96b"
      },
      "execution_count": 4,
      "outputs": [
        {
          "output_type": "stream",
          "name": "stderr",
          "text": [
            "100%|██████████| 9.91M/9.91M [00:00<00:00, 57.5MB/s]\n",
            "100%|██████████| 28.9k/28.9k [00:00<00:00, 1.72MB/s]\n",
            "100%|██████████| 1.65M/1.65M [00:00<00:00, 14.4MB/s]\n",
            "100%|██████████| 4.54k/4.54k [00:00<00:00, 4.78MB/s]\n"
          ]
        }
      ]
    },
    {
      "cell_type": "code",
      "source": [
        "# Define a simple neural network class\n",
        "class DigitClassifier(nn.Module):\n",
        "    def __init__(self):\n",
        "        super(DigitClassifier, self).__init__()\n",
        "        self.fc = nn.Sequential(\n",
        "            nn.Flatten(),                  # Converts 28x28 image to 784 vector\n",
        "            nn.Linear(28*28, 128),         # First hidden layer with 128 neurons\n",
        "            nn.ReLU(),                     # ReLU activation adds non-linearity\n",
        "            nn.Linear(128, 10)             # Output layer for 10 classes (digits 0–9)\n",
        "        )\n",
        "\n",
        "    def forward(self, x):\n",
        "        return self.fc(x)                  # Forward pass through the layers\n",
        "\n",
        "# Use GPU if available, else CPU\n",
        "device = torch.device('cuda' if torch.cuda.is_available() else 'cpu')\n",
        "model = DigitClassifier().to(device)      # Move model to the device\n"
      ],
      "metadata": {
        "id": "ID6tmpdfiSbS"
      },
      "execution_count": 6,
      "outputs": []
    },
    {
      "cell_type": "code",
      "source": [
        "# Define the loss function and optimizer\n",
        "criterion = nn.CrossEntropyLoss()         # CrossEntropyLoss is used for multi-class classification\n",
        "optimizer = optim.Adam(model.parameters(), lr=0.001)  # Adam optimizer with learning rate 0.001\n"
      ],
      "metadata": {
        "id": "5qxcWEhsif6s"
      },
      "execution_count": 7,
      "outputs": []
    },
    {
      "cell_type": "code",
      "source": [
        "# Train the model for 5 epochs\n",
        "for epoch in range(5):\n",
        "    model.train()                         # Set model to training mode\n",
        "    running_loss = 0.0                    # Track total loss\n",
        "\n",
        "    for images, labels in train_loader:\n",
        "        images, labels = images.to(device), labels.to(device)  # Move data to GPU if available\n",
        "\n",
        "        optimizer.zero_grad()             # Clear old gradients\n",
        "        outputs = model(images)           # Forward pass\n",
        "        loss = criterion(outputs, labels) # Calculate loss\n",
        "        loss.backward()                   # Backward pass to compute gradients\n",
        "        optimizer.step()                  # Update model weights\n",
        "\n",
        "        running_loss += loss.item()       # Accumulate loss\n",
        "\n",
        "    print(f\"Epoch {epoch+1}: Loss = {running_loss:.4f}\")\n"
      ],
      "metadata": {
        "colab": {
          "base_uri": "https://localhost:8080/"
        },
        "id": "rLE8mQkmih1O",
        "outputId": "0342f809-8816-41ad-c471-83e43517f05f"
      },
      "execution_count": 8,
      "outputs": [
        {
          "output_type": "stream",
          "name": "stdout",
          "text": [
            "Epoch 1: Loss = 350.4526\n",
            "Epoch 2: Loss = 179.2324\n",
            "Epoch 3: Loss = 131.8035\n",
            "Epoch 4: Loss = 107.8105\n",
            "Epoch 5: Loss = 92.2459\n"
          ]
        }
      ]
    },
    {
      "cell_type": "code",
      "source": [
        "# Evaluate model accuracy on test set\n",
        "model.eval()                              # Switch model to evaluation mode\n",
        "correct = 0\n",
        "total = 0\n",
        "\n",
        "with torch.no_grad():                     # Disable gradient calculation (faster & less memory)\n",
        "    for images, labels in test_loader:\n",
        "        images, labels = images.to(device), labels.to(device)\n",
        "        outputs = model(images)\n",
        "        _, predicted = torch.max(outputs, 1)  # Choose the highest scoring class\n",
        "        total += labels.size(0)\n",
        "        correct += (predicted == labels).sum().item()\n",
        "\n",
        "accuracy = 100 * correct / total\n",
        "print(f\"\\n🎯 Test Accuracy: {accuracy:.2f}%\")\n"
      ],
      "metadata": {
        "colab": {
          "base_uri": "https://localhost:8080/"
        },
        "id": "YGUPI69LjCyV",
        "outputId": "7cda34f5-846d-45e0-a6d4-79af82807e7c"
      },
      "execution_count": 9,
      "outputs": [
        {
          "output_type": "stream",
          "name": "stdout",
          "text": [
            "\n",
            "🎯 Test Accuracy: 97.14%\n"
          ]
        }
      ]
    }
  ]
}